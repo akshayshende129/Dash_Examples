{
 "cells": [
  {
   "cell_type": "markdown",
   "metadata": {},
   "source": [
    "# Required Packages"
   ]
  },
  {
   "cell_type": "code",
   "execution_count": null,
   "metadata": {
    "ExecuteTime": {
     "end_time": "2019-05-30T11:34:59.371817Z",
     "start_time": "2019-05-30T11:34:59.367042Z"
    },
    "cell_style": "center"
   },
   "outputs": [],
   "source": [
    "# !pip install plotly\n",
    "# !pip install pandas\n",
    "# !pip install numpy\n",
    "# !pip install dash\n",
    "# !pip install dash-daq"
   ]
  },
  {
   "cell_type": "markdown",
   "metadata": {},
   "source": [
    "# Packages"
   ]
  },
  {
   "cell_type": "code",
   "execution_count": null,
   "metadata": {
    "ExecuteTime": {
     "end_time": "2019-05-30T12:21:08.964597Z",
     "start_time": "2019-05-30T12:20:58.193473Z"
    },
    "cell_style": "center"
   },
   "outputs": [],
   "source": [
    "from plotly import graph_objs as go\n",
    "\n",
    "import dash\n",
    "\n",
    "import dash_core_components as dcc\n",
    "import dash_html_components as html\n",
    "\n",
    "from dash.dependencies import Input, Output\n",
    "\n",
    "import pandas as pd"
   ]
  },
  {
   "cell_type": "code",
   "execution_count": null,
   "metadata": {},
   "outputs": [],
   "source": []
  },
  {
   "cell_type": "markdown",
   "metadata": {},
   "source": [
    "# Initilize Dash App"
   ]
  },
  {
   "cell_type": "code",
   "execution_count": null,
   "metadata": {
    "ExecuteTime": {
     "end_time": "2019-05-30T11:35:11.133049Z",
     "start_time": "2019-05-30T11:35:11.119052Z"
    }
   },
   "outputs": [],
   "source": [
    "app = dash.Dash()"
   ]
  },
  {
   "cell_type": "code",
   "execution_count": null,
   "metadata": {
    "ExecuteTime": {
     "end_time": "2019-05-30T12:21:22.182956Z",
     "start_time": "2019-05-30T12:21:22.166694Z"
    }
   },
   "outputs": [],
   "source": [
    "external_stylesheets = ['https://codepen.io/chriddyp/pen/bWLwgP.css']\n",
    "app = dash.Dash(__name__, external_stylesheets=external_stylesheets)"
   ]
  },
  {
   "cell_type": "markdown",
   "metadata": {},
   "source": [
    "**Data which I've used contains start time and end time along with a distance covered by a person by any mean of transport.**"
   ]
  },
  {
   "cell_type": "code",
   "execution_count": null,
   "metadata": {
    "ExecuteTime": {
     "end_time": "2019-05-30T12:21:40.958909Z",
     "start_time": "2019-05-30T12:21:22.329818Z"
    }
   },
   "outputs": [],
   "source": [
    "path = '../data.xlsx'\n",
    "data = pd.read_excel(path)"
   ]
  },
  {
   "cell_type": "markdown",
   "metadata": {},
   "source": [
    "# Scatter Plot"
   ]
  },
  {
   "cell_type": "code",
   "execution_count": null,
   "metadata": {
    "ExecuteTime": {
     "end_time": "2019-05-30T11:35:32.291252Z",
     "start_time": "2019-05-30T11:35:29.321084Z"
    }
   },
   "outputs": [],
   "source": [
    "app.layout = html.Div([\n",
    "    html.H1('Scatter Plot'),\n",
    "    dcc.Graph(\n",
    "        id = 'scatter',\n",
    "        figure = {\n",
    "            'data' : [\n",
    "                go.Scatter(\n",
    "                    x = [1,2,4,5,5,2,2,16],\n",
    "                    y = [2,5,2,1,3,5,1,0],\n",
    "                    mode = 'markers'\n",
    "                )\n",
    "            ], #data\n",
    "            'layout' : go.Layout(\n",
    "                title = 'Scatter Plot',\n",
    "                xaxis = {'title' : 'Distance'},\n",
    "                yaxis = {'title' : 'Duration in Seconds'},\n",
    "                hovermode = 'closest'\n",
    "            ) #layout\n",
    "        } # figure\n",
    "    ) # Graph\n",
    "])"
   ]
  },
  {
   "cell_type": "code",
   "execution_count": null,
   "metadata": {},
   "outputs": [],
   "source": []
  },
  {
   "cell_type": "markdown",
   "metadata": {},
   "source": [
    "# Bar Chart"
   ]
  },
  {
   "cell_type": "code",
   "execution_count": null,
   "metadata": {
    "ExecuteTime": {
     "end_time": "2019-05-30T11:35:32.306995Z",
     "start_time": "2019-05-30T11:35:32.292751Z"
    }
   },
   "outputs": [],
   "source": [
    "app.layout = html.Div([\n",
    "    html.H1('Unlimit Insights'),\n",
    "    html.Div('Data Product Dashboard'),\n",
    "    dcc.Graph(\n",
    "        id = 'ex1',\n",
    "        figure = {\n",
    "            'data' : [\n",
    "                        {'x' : [1,2,4,5,6],'y':[2,4,8,3,1],'type':'bar','name':'cars'},\n",
    "                        {'x' : [4,9,1,2],'y':[1,4,5,3],'type':'bar','name':'bike'},\n",
    "                        {'x' : [1,2,8,9,6],'y':[3,5,7,1,10],'type':'lie','name':'road'}\n",
    "                    ],\n",
    "            'layout' : {'title' : 'Sample Bar'}\n",
    "        }\n",
    "    )\n",
    "])"
   ]
  },
  {
   "cell_type": "code",
   "execution_count": null,
   "metadata": {},
   "outputs": [],
   "source": []
  },
  {
   "cell_type": "markdown",
   "metadata": {},
   "source": [
    "# Drop Down"
   ]
  },
  {
   "cell_type": "code",
   "execution_count": null,
   "metadata": {
    "ExecuteTime": {
     "end_time": "2019-05-30T11:35:32.339522Z",
     "start_time": "2019-05-30T11:35:32.311006Z"
    }
   },
   "outputs": [],
   "source": [
    "x = {\n",
    "    'a' : 'category',\n",
    "    'b' : 'category',\n",
    "    'c' : 'category',\n",
    "    'd' : 'numeric',\n",
    "    'e' : 'numeric',\n",
    "    'f' : 'timestamp'\n",
    "}\n",
    "options = [ {'label' : str(k).title(), 'value' : str(k)} for k,v in x.items() if v == 'category']\n",
    "options"
   ]
  },
  {
   "cell_type": "code",
   "execution_count": null,
   "metadata": {
    "ExecuteTime": {
     "end_time": "2019-05-30T11:35:32.348119Z",
     "start_time": "2019-05-30T11:35:32.344090Z"
    }
   },
   "outputs": [],
   "source": [
    "app.layout = html.Div([\n",
    "    html.H1('Drop Down'),\n",
    "    dcc.Dropdown(\n",
    "        id='drop_down',\n",
    "        options = options,\n",
    "        placeholder = 'Select Columns'\n",
    "    )\n",
    "])"
   ]
  },
  {
   "cell_type": "code",
   "execution_count": null,
   "metadata": {},
   "outputs": [],
   "source": []
  },
  {
   "cell_type": "markdown",
   "metadata": {},
   "source": [
    "# Generate Table"
   ]
  },
  {
   "cell_type": "code",
   "execution_count": null,
   "metadata": {
    "ExecuteTime": {
     "end_time": "2019-05-30T11:35:32.494858Z",
     "start_time": "2019-05-30T11:35:32.351142Z"
    }
   },
   "outputs": [],
   "source": [
    "def generate_table(dataframe, max_rows=10):\n",
    "    return html.Table(\n",
    "        # Header\n",
    "        [html.Tr([html.Th(col) for col in dataframe.columns])] +\n",
    "\n",
    "        # Body\n",
    "        [html.Tr([\n",
    "            html.Td(dataframe.iloc[i][col]) for col in dataframe.columns\n",
    "        ]) for i in range(min(len(dataframe), max_rows))]\n",
    "    )\n",
    "\n",
    "app.layout = html.Div(children=[\n",
    "    html.H4(children='UBI'),\n",
    "    generate_table(data)\n",
    "])\n"
   ]
  },
  {
   "cell_type": "code",
   "execution_count": null,
   "metadata": {},
   "outputs": [],
   "source": []
  },
  {
   "cell_type": "markdown",
   "metadata": {},
   "source": [
    "# Combine Charts"
   ]
  },
  {
   "cell_type": "code",
   "execution_count": null,
   "metadata": {
    "ExecuteTime": {
     "end_time": "2019-05-30T11:35:38.071163Z",
     "start_time": "2019-05-30T11:35:32.497466Z"
    }
   },
   "outputs": [],
   "source": [
    "app.layout = html.Div([\n",
    "    html.H1('Drop Down'),\n",
    "    dcc.Dropdown(\n",
    "        id='drop_down',\n",
    "        options = options,\n",
    "        placeholder = 'Select Columns'\n",
    "    ),\n",
    "    html.Label(\"Slider\"),\n",
    "    dcc.Slider(\n",
    "        min = 1,\n",
    "        max = 10,\n",
    "        steps = 0.5,\n",
    "        marks = {i:i for i in range(10)}\n",
    "    )\n",
    "])"
   ]
  },
  {
   "cell_type": "code",
   "execution_count": null,
   "metadata": {},
   "outputs": [],
   "source": []
  },
  {
   "cell_type": "markdown",
   "metadata": {},
   "source": [
    "# Range Slider"
   ]
  },
  {
   "cell_type": "code",
   "execution_count": null,
   "metadata": {
    "ExecuteTime": {
     "end_time": "2019-05-30T11:35:38.084025Z",
     "start_time": "2019-05-30T11:34:59.863Z"
    }
   },
   "outputs": [],
   "source": [
    "app.layout = html.Div([\n",
    "    html.Label(\"Range Slider\"),\n",
    "    dcc.RangeSlider(\n",
    "        min = 1,\n",
    "        max = 10,\n",
    "        value = [5,10],\n",
    "        marks = {i:i for i in range(10)}\n",
    "    )\n",
    "])"
   ]
  },
  {
   "cell_type": "code",
   "execution_count": null,
   "metadata": {},
   "outputs": [],
   "source": []
  },
  {
   "cell_type": "markdown",
   "metadata": {},
   "source": [
    "# I/p O/p Components"
   ]
  },
  {
   "cell_type": "code",
   "execution_count": null,
   "metadata": {
    "ExecuteTime": {
     "end_time": "2019-05-30T11:35:38.084025Z",
     "start_time": "2019-05-30T11:34:59.929Z"
    }
   },
   "outputs": [],
   "source": [
    "app.layout = html.Div([\n",
    "    html.Label(\"Text\"),\n",
    "    dcc.Input(\n",
    "        placeholder = 'Enter Name',\n",
    "        type='text'\n",
    "    ),\n",
    "    html.Div([\n",
    "        html.Label('Numeric'),\n",
    "        dcc.Input(\n",
    "            placeholder = 'Select Number',\n",
    "            value = '0',\n",
    "            type = 'number'\n",
    "        )\n",
    "    ])\n",
    "])"
   ]
  },
  {
   "cell_type": "markdown",
   "metadata": {},
   "source": [
    "# Heatmap"
   ]
  },
  {
   "cell_type": "code",
   "execution_count": null,
   "metadata": {
    "ExecuteTime": {
     "end_time": "2019-05-30T11:35:38.088080Z",
     "start_time": "2019-05-30T11:34:59.993Z"
    }
   },
   "outputs": [],
   "source": [
    "corr = data.corr()\n",
    "app.layout = html.Div([\n",
    "        dcc.Graph(\n",
    "            id = 'dist_plot',\n",
    "            figure = {\n",
    "                'data' :[\n",
    "                    go.Heatmap(\n",
    "                        z = list(corr.values.tolist()),\n",
    "                        x = corr.columns.tolist(),\n",
    "                        y = corr.index.tolist()\n",
    "                    )\n",
    "                ],\n",
    "                'layout' : {\n",
    "                    'margin' : {'b' : 100, 't' : 100, 'l' : 100, 'r' : 100},\n",
    "                    'legend' : {'x' : 0}\n",
    "                }\n",
    "            }\n",
    "        ) # Histogram Graph\n",
    "])"
   ]
  },
  {
   "cell_type": "code",
   "execution_count": null,
   "metadata": {},
   "outputs": [],
   "source": []
  },
  {
   "cell_type": "markdown",
   "metadata": {},
   "source": [
    "# Timeseries Plot"
   ]
  },
  {
   "cell_type": "markdown",
   "metadata": {
    "ExecuteTime": {
     "end_time": "2019-05-30T11:09:45.774081Z",
     "start_time": "2019-05-30T11:09:45.768988Z"
    }
   },
   "source": [
    "## Basic"
   ]
  },
  {
   "cell_type": "code",
   "execution_count": null,
   "metadata": {
    "ExecuteTime": {
     "end_time": "2019-05-30T11:35:38.088080Z",
     "start_time": "2019-05-30T11:35:00.130Z"
    }
   },
   "outputs": [],
   "source": [
    "app.layout = html.Div([\n",
    "    dcc.Graph(\n",
    "        id = 'ts_plot',\n",
    "        figure = {\n",
    "            'data' : [\n",
    "                go.Scatter(x=data.start_time,y=data.distance)\n",
    "            ]\n",
    "        }\n",
    "    )\n",
    "])# div"
   ]
  },
  {
   "cell_type": "markdown",
   "metadata": {},
   "source": [
    "## With Range Slider"
   ]
  },
  {
   "cell_type": "code",
   "execution_count": null,
   "metadata": {
    "ExecuteTime": {
     "end_time": "2019-05-30T11:35:38.088080Z",
     "start_time": "2019-05-30T11:35:00.204Z"
    }
   },
   "outputs": [],
   "source": [
    "data.start_time.max().month"
   ]
  },
  {
   "cell_type": "code",
   "execution_count": null,
   "metadata": {
    "ExecuteTime": {
     "end_time": "2019-05-30T12:22:01.502170Z",
     "start_time": "2019-05-30T12:22:01.081971Z"
    }
   },
   "outputs": [],
   "source": [
    "app.layout = html.Div([\n",
    "    dcc.Graph(\n",
    "        id = 'ts_plot',\n",
    "        figure = {\n",
    "            'data' : [\n",
    "                go.Scatter(x=data.start_time,y=data.distance)\n",
    "            ]\n",
    "        }\n",
    "    ), # Graph\n",
    "    dcc.RangeSlider(\n",
    "        id = 'range_month',\n",
    "        min = data.start_time.min().month,\n",
    "        max = data.start_time.max().month,\n",
    "        marks = {i:i for i in range(12)}\n",
    "    ) # Range Slider\n",
    "])# div"
   ]
  },
  {
   "cell_type": "markdown",
   "metadata": {},
   "source": [
    "**Updating the timeseries plot using the range slider**"
   ]
  },
  {
   "cell_type": "code",
   "execution_count": null,
   "metadata": {
    "ExecuteTime": {
     "end_time": "2019-05-30T12:22:02.610482Z",
     "start_time": "2019-05-30T12:22:02.600361Z"
    }
   },
   "outputs": [],
   "source": [
    "@app.callback(\n",
    "    Output('ts_plot','figure'),\n",
    "    [Input('range_month','value')]\n",
    ")\n",
    "def update_graph(value):\n",
    "    # print(value) -> Returns list with 2 values\n",
    "    if value[0] < value[1]:\n",
    "        filterData = data.loc[data['start_time'].apply(lambda x  : x.month in range(value[0],value[1])),\n",
    "                              ['start_time','distance']]\n",
    "    else:\n",
    "        filterData = data.loc[data['start_time'].apply(lambda x  : x.month in range(value[0],value[1],-1)),\n",
    "                              ['start_time','distance']]\n",
    "    return {\n",
    "        'data' : [\n",
    "            go.Scatter(x = filterData['start_time'], y = filterData['distance'])\n",
    "        ]\n",
    "    }"
   ]
  },
  {
   "cell_type": "code",
   "execution_count": null,
   "metadata": {},
   "outputs": [],
   "source": []
  },
  {
   "cell_type": "code",
   "execution_count": null,
   "metadata": {},
   "outputs": [],
   "source": []
  },
  {
   "cell_type": "markdown",
   "metadata": {},
   "source": [
    "# Run App"
   ]
  },
  {
   "cell_type": "code",
   "execution_count": null,
   "metadata": {
    "ExecuteTime": {
     "end_time": "2019-05-31T03:53:50.732541Z",
     "start_time": "2019-05-30T12:22:06.150253Z"
    }
   },
   "outputs": [],
   "source": [
    "if __name__ == '__main__':\n",
    "    app.run_server(port=4050)"
   ]
  },
  {
   "cell_type": "code",
   "execution_count": null,
   "metadata": {},
   "outputs": [],
   "source": []
  },
  {
   "cell_type": "code",
   "execution_count": null,
   "metadata": {
    "ExecuteTime": {
     "end_time": "2019-05-29T04:46:26.770290Z",
     "start_time": "2019-05-29T04:46:26.760029Z"
    }
   },
   "outputs": [],
   "source": []
  },
  {
   "cell_type": "code",
   "execution_count": null,
   "metadata": {},
   "outputs": [],
   "source": []
  },
  {
   "cell_type": "code",
   "execution_count": null,
   "metadata": {},
   "outputs": [],
   "source": []
  },
  {
   "cell_type": "code",
   "execution_count": null,
   "metadata": {},
   "outputs": [],
   "source": []
  },
  {
   "cell_type": "code",
   "execution_count": null,
   "metadata": {},
   "outputs": [],
   "source": []
  },
  {
   "cell_type": "code",
   "execution_count": null,
   "metadata": {},
   "outputs": [],
   "source": []
  },
  {
   "cell_type": "code",
   "execution_count": null,
   "metadata": {},
   "outputs": [],
   "source": []
  },
  {
   "cell_type": "code",
   "execution_count": null,
   "metadata": {},
   "outputs": [],
   "source": []
  },
  {
   "cell_type": "code",
   "execution_count": null,
   "metadata": {},
   "outputs": [],
   "source": []
  },
  {
   "cell_type": "code",
   "execution_count": null,
   "metadata": {},
   "outputs": [],
   "source": []
  },
  {
   "cell_type": "code",
   "execution_count": null,
   "metadata": {},
   "outputs": [],
   "source": []
  }
 ],
 "metadata": {
  "kernelspec": {
   "display_name": "Python 3",
   "language": "python",
   "name": "python3"
  },
  "language_info": {
   "codemirror_mode": {
    "name": "ipython",
    "version": 3
   },
   "file_extension": ".py",
   "mimetype": "text/x-python",
   "name": "python",
   "nbconvert_exporter": "python",
   "pygments_lexer": "ipython3",
   "version": "3.7.3"
  },
  "nbTranslate": {
   "displayLangs": [
    "*"
   ],
   "hotkey": "alt-t",
   "langInMainMenu": true,
   "sourceLang": "en",
   "targetLang": "fr",
   "useGoogleTranslate": true
  },
  "toc": {
   "base_numbering": 1,
   "nav_menu": {},
   "number_sections": true,
   "sideBar": true,
   "skip_h1_title": false,
   "title_cell": "Table of Contents",
   "title_sidebar": "Contents",
   "toc_cell": false,
   "toc_position": {},
   "toc_section_display": true,
   "toc_window_display": true
  },
  "varInspector": {
   "cols": {
    "lenName": 16,
    "lenType": 16,
    "lenVar": 40
   },
   "kernels_config": {
    "python": {
     "delete_cmd_postfix": "",
     "delete_cmd_prefix": "del ",
     "library": "var_list.py",
     "varRefreshCmd": "print(var_dic_list())"
    },
    "r": {
     "delete_cmd_postfix": ") ",
     "delete_cmd_prefix": "rm(",
     "library": "var_list.r",
     "varRefreshCmd": "cat(var_dic_list()) "
    }
   },
   "types_to_exclude": [
    "module",
    "function",
    "builtin_function_or_method",
    "instance",
    "_Feature"
   ],
   "window_display": false
  }
 },
 "nbformat": 4,
 "nbformat_minor": 2
}
